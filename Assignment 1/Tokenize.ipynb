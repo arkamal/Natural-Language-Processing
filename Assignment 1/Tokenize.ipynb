{
 "cells": [
  {
   "cell_type": "code",
   "execution_count": 11,
   "metadata": {},
   "outputs": [],
   "source": [
    "import nltk\n",
    "import numpy as np\n",
    "import pandas as pd"
   ]
  },
  {
   "cell_type": "code",
   "execution_count": 12,
   "metadata": {},
   "outputs": [],
   "source": [
    "f = open(\"Sample_Input1.txt\",encoding=\"utf8\")"
   ]
  },
  {
   "cell_type": "code",
   "execution_count": 13,
   "metadata": {},
   "outputs": [],
   "source": [
    "text=f.read()"
   ]
  },
  {
   "cell_type": "code",
   "execution_count": 14,
   "metadata": {},
   "outputs": [],
   "source": [
    "l=text.split(\".\")"
   ]
  },
  {
   "cell_type": "code",
   "execution_count": 15,
   "metadata": {
    "scrolled": true
   },
   "outputs": [
    {
     "name": "stdout",
     "output_type": "stream",
     "text": [
      "0. Braving winter rain, thousands gathered at the Bhupen Hazarika memorial at Jalukbari here to join a protest rally against the Citizenship Amendment Act (CAA)\n",
      "\n",
      "\n",
      "1. Organised by the artistes of the state and backed by the All Assam Students’ Union (AASU), thousands of protesters, wearing black masks, hit the city streets to express their anger against the amended citizenship law and vowed to uproot the current government if it failed to respect public sentiment\n",
      "\n",
      "\n",
      "2. The huge rally was organised a day after the BJP, in a show of strength, held a massive gathering of its workers in support of CAA at Khanapara ground\n",
      "\n",
      "\n",
      "3. Leading Sunday’s rally from Jalukbari to Dighalipukhuri, a distance of around 14km, AASU general secretary Lurinjyoti Gogoi said, “The BJP showed its strength with its party workers but the anti-CAA movement has public support\n",
      "\n",
      "\n",
      "4.  In a democracy, public is the power and this movement has witnessed spontaneous public support from day one\n",
      "\n",
      "\n",
      "5. ”The AASU leader also warned the government against using power to suppress the movement\n",
      "\n",
      "\n",
      "6.  “The government has killed five people and many of their hired goons are attacking those who are opposing the Act\n",
      "\n",
      "\n",
      "7.  We warn the government not to apply force or power to dominate the movement,” he added\n",
      "\n",
      "\n",
      "8. AASU chief adviser Samujjal Bhattacharjya said the movement would continue till the ultimate goal of securing the constitutional safeguards for the indigenous people of the state was achieved\n",
      "\n",
      "\n",
      "9. Bhattacharjya said, “This movement will not stop till we achieve our final goal of securing the rights of the indigenous communities of the state\n",
      "\n",
      "\n",
      "10. ”Countering state BJP’s president Ranjeet Kumar Dass’s that “duck sellers, chicken sellers, vegetable vendors and egg sellers” were participating in the anti-CAA rallies, Assam Jatiyatabadi Yuva Chatra Parishad (AJYCP) general secretary Palash Changmai said, “Why can’t vegetable vendors or chicken sellers join the movement? If a tea seller can become the Prime Minister then I am sure a vegetable seller is also a patriot and can assert his democratic voice\n",
      "\n",
      "\n",
      "11. ”Singer Zubeen Garg who led the artiste community on Sunday, added, “The government is not listening to our voices and so we have worn these black masks in protest\n",
      "\n",
      "\n",
      "12.  If needed we are ready for a political alternative\n",
      "\n",
      "\n",
      "13.  We are ready to uproot this government if it continues to be blind and deaf to the people’s cry\n",
      "\n",
      "\n",
      "14. ”Amid the anti-CAA movement in the state, the demand for a political alternative to oust the ruling BJP in the next Assembly election is also growing\n",
      "\n",
      "\n",
      "15. Popular singer Manas Robin said the artiste community would decide to take forward the protest against the amended citizenship law on January 17, when the state celebrates Shilpi Divas in memory of Assam’s cultural icon Jyoti Prasad Agarwala\n",
      "\n",
      "\n",
      "16. He also called upon the various communities and organisations of the state to join hands in opposing CAA\n",
      "\n",
      "\n",
      "17. Rain also failed to sdampen the spirit of the CAA protesters who gathered at Jeotimoral Sangha playground in Dibrugarh on Sunday\n",
      "\n",
      "\n",
      "18. The protest was organised by Shilpi Samaj\n",
      "\n",
      "\n",
      "19.  The artiste fraternity protested through songs and poems\n",
      "\n",
      "\n",
      "20. Addressing the gathering, Dibrugarh-based musician Prasanta Bordoloi said the CAA was against the people of Assam\n",
      "\n",
      "\n",
      "21. “The ongoing anti-CAA movement reflects our rational and emotional sides\n",
      "\n",
      "\n",
      "22.  The CAA is against the secular fabric of the country and will divide the people of India\n",
      "\n",
      "\n",
      "23.  We, the artiste fraternity, assembled here to protest against it\n",
      "\n",
      "\n",
      "24.  The government has forcefully imposed it on Assam for vote bank politics,” Bordoloi said\n",
      "\n",
      "\n",
      "25. The artistes expressed resentment by singing songs of Bhupen Hazarika\n",
      "\n",
      "\n",
      "26. “Assam is not a dumping ground for illegal Bangladeshis\n",
      "\n",
      "\n",
      "27.  We do not accept the CAA in Assam because it violates the Assam Accord\n",
      "\n",
      "\n",
      "28.  We will continue our protest till CAA is scrapped,” said another protester\n",
      "\n",
      "\n",
      "29. Additional reporting by Avik Chakraborty in Dibrugarh\n",
      "\n",
      "\n"
     ]
    }
   ],
   "source": [
    "for i in range(len(l)):\n",
    "    print(str(i)+\". \" + str(l[i].replace(\"\\n\",\"\")))\n",
    "    print(\"\\n\")"
   ]
  },
  {
   "cell_type": "code",
   "execution_count": 43,
   "metadata": {},
   "outputs": [],
   "source": [
    "def word_freq(x):\n",
    "    c=0\n",
    "    l=text.split(\" \")\n",
    "    for i in range(len(l)):\n",
    "        if x==l[i]:\n",
    "            c=c+1;\n",
    "    return c\n",
    "    "
   ]
  },
  {
   "cell_type": "code",
   "execution_count": 46,
   "metadata": {},
   "outputs": [
    {
     "data": {
      "text/plain": [
       "51"
      ]
     },
     "execution_count": 46,
     "metadata": {},
     "output_type": "execute_result"
    }
   ],
   "source": [
    "word_freq(\"the\")"
   ]
  },
  {
   "cell_type": "code",
   "execution_count": 37,
   "metadata": {},
   "outputs": [],
   "source": [
    "words = nltk.word_tokenize(text)\n",
    "fdist = nltk.FreqDist(words)"
   ]
  },
  {
   "cell_type": "code",
   "execution_count": 45,
   "metadata": {},
   "outputs": [
    {
     "data": {
      "text/plain": [
       "FreqDist({'the': 51, ',': 25, '.': 25, 'of': 19, 'to': 17, 'a': 12, 'and': 12, 'The': 11, 'in': 11, 'movement': 9, ...})"
      ]
     },
     "execution_count": 45,
     "metadata": {},
     "output_type": "execute_result"
    }
   ],
   "source": [
    "fdist"
   ]
  },
  {
   "cell_type": "code",
   "execution_count": 38,
   "metadata": {},
   "outputs": [],
   "source": [
    "from nltk.corpus import stopwords\n",
    "default_stopwords = set(nltk.corpus.stopwords.words('english'))"
   ]
  },
  {
   "cell_type": "code",
   "execution_count": 40,
   "metadata": {},
   "outputs": [],
   "source": [
    "def top_10():\n",
    "    words = nltk.word_tokenize(text)\n",
    "    words=[word.lower() for word in words]\n",
    "    words = [word for word in words if len(word) > 1]\n",
    "    words = [word for word in words if word not in default_stopwords]\n",
    "    fdist = nltk.FreqDist(words)\n",
    "    for word, frequency in fdist.most_common(10):\n",
    "        print(word,frequency)"
   ]
  },
  {
   "cell_type": "code",
   "execution_count": 29,
   "metadata": {},
   "outputs": [],
   "source": [
    "def four_lettered():\n",
    "    w=[word for word in words if(len(word)==4)]\n",
    "    fdist = nltk.FreqDist(w)\n",
    "    return fdist"
   ]
  },
  {
   "cell_type": "code",
   "execution_count": 41,
   "metadata": {},
   "outputs": [
    {
     "name": "stdout",
     "output_type": "stream",
     "text": [
      "movement 9\n",
      "caa 8\n",
      "assam 8\n",
      "said 8\n",
      "government 7\n",
      "protest 6\n",
      "state 6\n",
      "also 5\n",
      "people 5\n",
      "aasu 4\n"
     ]
    }
   ],
   "source": [
    "top_10()"
   ]
  },
  {
   "cell_type": "code",
   "execution_count": 42,
   "metadata": {},
   "outputs": [
    {
     "data": {
      "text/plain": [
       "FreqDist({'said': 8, 'also': 5, 'AASU': 4, 'join': 3, 'till': 3, 'will': 3, 'here': 2, 'from': 2, 'this': 2, 'goal': 2, ...})"
      ]
     },
     "execution_count": 42,
     "metadata": {},
     "output_type": "execute_result"
    }
   ],
   "source": [
    "value=four_lettered()\n",
    "value"
   ]
  },
  {
   "cell_type": "code",
   "execution_count": 32,
   "metadata": {},
   "outputs": [],
   "source": [
    "def atleast_3(words):\n",
    "    fdist = nltk.FreqDist(words)\n",
    "    for word, frequency in fdist.most_common(10):\n",
    "        if(frequency>=3):\n",
    "            print(word,frequency)"
   ]
  },
  {
   "cell_type": "code",
   "execution_count": 33,
   "metadata": {},
   "outputs": [
    {
     "name": "stdout",
     "output_type": "stream",
     "text": [
      "the 51\n",
      "of 19\n",
      "to 17\n",
      "and 12\n",
      "The 11\n",
      "in 11\n",
      "movement 9\n",
      "CAA 8\n",
      "Assam 8\n",
      "said 8\n"
     ]
    }
   ],
   "source": [
    "words = nltk.word_tokenize(text)\n",
    "words = [word for word in words if len(word) > 1]\n",
    "atleast_3(words)"
   ]
  },
  {
   "cell_type": "code",
   "execution_count": 34,
   "metadata": {},
   "outputs": [
    {
     "name": "stdout",
     "output_type": "stream",
     "text": [
      "one 3292\n",
      "would 2714\n",
      "said 1961\n",
      "new 1635\n",
      "could 1601\n",
      "time 1598\n",
      "two 1412\n",
      "may 1402\n",
      "first 1361\n",
      "like 1292\n"
     ]
    }
   ],
   "source": [
    "from nltk.corpus import brown\n",
    "words = [word for word in brown.words() if len(word) > 2]\n",
    "words = [word.lower() for word in words]\n",
    "words = [word for word in words if word not in default_stopwords]\n",
    "atleast_3(words)"
   ]
  },
  {
   "cell_type": "code",
   "execution_count": null,
   "metadata": {},
   "outputs": [],
   "source": []
  }
 ],
 "metadata": {
  "kernelspec": {
   "display_name": "Python 3",
   "language": "python",
   "name": "python3"
  },
  "language_info": {
   "codemirror_mode": {
    "name": "ipython",
    "version": 3
   },
   "file_extension": ".py",
   "mimetype": "text/x-python",
   "name": "python",
   "nbconvert_exporter": "python",
   "pygments_lexer": "ipython3",
   "version": "3.7.3"
  }
 },
 "nbformat": 4,
 "nbformat_minor": 2
}
